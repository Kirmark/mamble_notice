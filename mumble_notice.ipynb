import re

def god_notice(line, last_mess):
    i = len(line)-1
    curr_mess = ''
    new = ''
    
    line = line.lower()
    line = re.split('[^a-z]', line)
    line = filter(lambda word: word != '', line)

    if (len(line) >= 2):
        if (line[2] == 'authenticated'):
            curr_mess = line[1] + ' in'
        elif (len(line) >= 3):
            if (line[3] == 'closed'):
                curr_mess = line[1] + ' out'
    #print(curr_mess)
    #print(curr_mess <> '')
    if ((curr_mess <> last_mess) and (curr_mess <> '')):
        new = True
        last_mess = curr_mess
    return new, last_mess

last_mess = ''
new = False
while True:
    with open('test.txt', 'r') as tlogs:
        logs = list(tlogs)
    new, last_mess = god_notice(logs[len(logs)-1], last_mess)
    if (new):
        print(last_mess)
