import re

last_mess = ''
curr_mess = ''

while True:
    with open('test.txt', 'r') as tlogs:
        logs = list(tlogs)

    logs = map(lambda line: line.lower(), logs)
    logs = map(lambda line: re.split('[^a-z]', line), logs)
    logs = map(lambda line:
        filter(lambda word: word != '', line)
    , logs)

    i = len(logs)-1

    if (len(logs) >= 2):
        if (logs[i][2] == 'authenticated'):
            curr_mess = logs[i][1] + ' in'
        elif (len(logs[i]) >= 3):
            if (logs[i][2] == 'connection'):
                curr_mess = logs[i][1] + ' out'
    if curr_mess <> last_mess:
        print(curr_mess)
        last_mess = curr_mess
